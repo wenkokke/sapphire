{
  "nbformat": 4,
  "nbformat_minor": 0,
  "metadata": {
    "colab": {
      "name": "Z3 Tutorial",
      "provenance": [],
      "collapsed_sections": []
    },
    "kernelspec": {
      "name": "python3",
      "display_name": "Python 3"
    }
  },
  "cells": [
    {
      "cell_type": "markdown",
      "metadata": {
        "id": "GBnlQlVLJeh0"
      },
      "source": [
        "# **Z3 Tutorial**\n",
        "\n",
        "## **Set-Up**\n",
        "_Please run the following code to ensure that Z3 is installed for this tutorial._"
      ]
    },
    {
      "cell_type": "code",
      "metadata": {
        "id": "tNf2OIlaKQby"
      },
      "source": [
        "!pip install z3-solver\n",
        "from z3 import *"
      ],
      "execution_count": null,
      "outputs": []
    },
    {
      "cell_type": "markdown",
      "metadata": {
        "id": "oyqglTxdVqYa"
      },
      "source": [
        "*Note: Make sure to follow along and run **all** of code cell blocks.*"
      ]
    },
    {
      "cell_type": "markdown",
      "metadata": {
        "id": "96XLaWmgRJgK"
      },
      "source": [
        "## **The Z3 API [1]**\n",
        "\n",
        "Z3 is a theorem prover from Microsoft Research, and is used in many applications such as: software/hardware verification and testing, constraint solving, security, biology, analysis of hybrid systems, and geometrical problems. [1]\n",
        "\n",
        "This Z3 tutorial is adapted from: [Z3Py - The Z3 API in Python](https://ericpony.github.io/z3py-tutorial/guide-examples.htm) [1]"
      ]
    },
    {
      "cell_type": "markdown",
      "metadata": {
        "id": "ZQ7L6oHIoeHS"
      },
      "source": [
        "### **Variable Declaration**\n",
        "\n",
        "Unlike in Python, in Z3 the type of the variable needs to be specified before the variable can be used. This is simple to do however and can be done as follows:\n"
      ]
    },
    {
      "cell_type": "code",
      "metadata": {
        "id": "G_chVGdNock5"
      },
      "source": [
        "x = Int('x')\n",
        "y = Int('y')"
      ],
      "execution_count": null,
      "outputs": []
    },
    {
      "cell_type": "markdown",
      "metadata": {
        "id": "1P33nvGsvm5U"
      },
      "source": [
        "This creates variables `x` and `y` which are both of type int in Z3.\n",
        "\n",
        "Z3 also allows for declearing multiple variables of the same type in one line rather than declearing them one by one (note here the use of '`Ints`' instead of '`Int`' for the variable declaration): "
      ]
    },
    {
      "cell_type": "code",
      "metadata": {
        "id": "SiGGsjmuvx_Z"
      },
      "source": [
        "x,y = Ints('x y')"
      ],
      "execution_count": null,
      "outputs": []
    },
    {
      "cell_type": "markdown",
      "metadata": {
        "id": "D81Q4sghwMkd"
      },
      "source": [
        "Note here that `Ints('x y')` is essentially equivalent to declaring a list comprehension of Z3 terms (discussed later on): `[Int(i) for i in [\"x\",\"y\"]]`\n",
        "\n",
        "The declaration of Reals and Booleans is also available, with mutiple variables being declared using '`Reals`' and '`Bools`': "
      ]
    },
    {
      "cell_type": "code",
      "metadata": {
        "id": "b0TmF3hAxlSf"
      },
      "source": [
        "r = Real('r')\n",
        "r1,r2 = Reals('r1 r2')\n",
        "\n",
        "b = Bool('b')\n",
        "b1,b2 = Bools('b1 b2')"
      ],
      "execution_count": null,
      "outputs": []
    },
    {
      "cell_type": "markdown",
      "metadata": {
        "id": "k_bqjlFC0PuB"
      },
      "source": [
        "### **Solve Function**\n",
        "\n",
        "As mentioned, Z3 allows for constraint solving through the use of the `solve` function. It uses `<`, `<=`, `>`, `>=`, `==` and `!=` operators for comparison, and allows for basic arithmetic to occur as well.\n",
        "\n",
        "Example:  "
      ]
    },
    {
      "cell_type": "code",
      "metadata": {
        "id": "EYXl_oXq0PPJ"
      },
      "source": [
        "solve(x < 5, y > 15, x + 2*y == 30)"
      ],
      "execution_count": null,
      "outputs": []
    },
    {
      "cell_type": "markdown",
      "metadata": {
        "id": "HaojMlK8ckvl"
      },
      "source": [
        "Exercise:\n",
        "\n",
        "Using the `solve` function, write a constraint where:\n",
        "- `x` must be less than `10`, \n",
        "- `y` must be greater than or equal to `1`, and \n",
        "- `x` added to (`y` times `3`) is equal to `15`"
      ]
    },
    {
      "cell_type": "code",
      "metadata": {
        "id": "0t61iJEscjGy"
      },
      "source": [
        "# write your answer below"
      ],
      "execution_count": null,
      "outputs": []
    },
    {
      "cell_type": "markdown",
      "metadata": {
        "id": "GtAJYQlXcqqi"
      },
      "source": [
        "### **Simplify Function**\n",
        "\n",
        "Constraints can be simplified down from a complex form:"
      ]
    },
    {
      "cell_type": "code",
      "metadata": {
        "id": "P2yFEX8mK7tH"
      },
      "source": [
        "print(\"-1 + y + y*4 + x + y + 2*x + 3 + y in simpler form:\")\n",
        "print(simplify(-1 + y + y*4 + x + y + 2*x + 3))\n",
        "print()\n",
        "print(\"And(x + 1 >= 3, x**2 + x**2 + y**2 + 2 >= 5)) in a simpler form:\")\n",
        "print(simplify(And(x + 1 >= 3, x**2 + x**2 + y**2 + 2 >= 5)))"
      ],
      "execution_count": null,
      "outputs": []
    },
    {
      "cell_type": "markdown",
      "metadata": {
        "id": "pKDwUITnCi5J"
      },
      "source": [
        "### **Basic Arithmetic**\n",
        "\n",
        "Z3 supports the following basic arithmetic operations:\n",
        "- for non-linear real and non-linear integer arithmetic: \n",
        "  - addition,\n",
        "  - subtraction,\n",
        "  - multiplication,\n",
        "  - division, and\n",
        "  - raising values to a constant power e.g. `x**2` is supported but `x**y` or `2**x` is not \n",
        "- for linear real and linear integer arithmetic: \n",
        "  - addition,\n",
        "  - subtraction, and\n",
        "  - multiplication and division by a constant e.g. `x*3` is supported but `x*y` is not\n",
        "\n",
        "Z3 can solve nonlinear polynomial constraints.\n",
        "\n",
        "Integers and Reals can be used in the same expression together, as Z3, like most programming languages, can convert integers to reals when needed, using the `ToReal()` function: "
      ]
    },
    {
      "cell_type": "code",
      "metadata": {
        "id": "2RUMemVjMDeE"
      },
      "source": [
        "x = Real('x')\n",
        "y = Int('y')\n",
        "a, b, c = Reals('a b c')\n",
        "s, r = Ints('s r')\n",
        "print(x + y + 1 + (a + s))\n",
        "print(ToReal(r) + c)"
      ],
      "execution_count": null,
      "outputs": []
    },
    {
      "cell_type": "markdown",
      "metadata": {
        "id": "3cbqkJNEYkMi"
      },
      "source": [
        "Exercise: \n",
        "\n",
        "Declare 2 variables, `a` and `b`, to be of type int, and one variable, `c`, to be of type real. Use the `solve` function to solve the following set of constaints: \n",
        "- `a` has to be greater than `b` multiplied by 2\n",
        "- `a` is equal to the sum of 6, and 2 multiplied by `c`\n",
        "- the sum of `c` and `b` is less than or equal to 100\n",
        "\n",
        "Print out the constraints to show the variables which use the `ToReal()` function.\n"
      ]
    },
    {
      "cell_type": "code",
      "metadata": {
        "id": "-L5eWdZvY-xf"
      },
      "source": [
        "# write your answer below"
      ],
      "execution_count": null,
      "outputs": []
    },
    {
      "cell_type": "markdown",
      "metadata": {
        "id": "uyMb7oyXPQ6M"
      },
      "source": [
        "### **Unsolvable Constraints**\n",
        "\n",
        "Up until now, all of the constraints were satisfiable i.e. there is a solution for them. But sometimes a system of contstraints is unsatisfiable:"
      ]
    },
    {
      "cell_type": "code",
      "metadata": {
        "id": "sE2qmtZGPgHA"
      },
      "source": [
        "x = Real('x')\n",
        "solve(x > 4, x < 0)\n",
        "y = Int('y')\n",
        "solve(y**2 + 1 == 11)"
      ],
      "execution_count": null,
      "outputs": []
    },
    {
      "cell_type": "markdown",
      "metadata": {
        "id": "P9P4ID34jNCx"
      },
      "source": [
        "### **Boolean Logic**\n",
        "\n",
        "Z3 supports the following Boolean operators: `And`, `Or`, `Not`, `Implies` (implication), and `If` (if-then-else). Bi-implications are represented using equality `==`."
      ]
    },
    {
      "cell_type": "code",
      "metadata": {
        "id": "poBtwFFkRbph"
      },
      "source": [
        "p = Bool('p')\n",
        "q = Bool('q')\n",
        "r = Bool('r')\n",
        "solve(Implies(p, q), r == Not(q), Or(Not(p), r))\n",
        "solve(p == Not(q))"
      ],
      "execution_count": null,
      "outputs": []
    },
    {
      "cell_type": "markdown",
      "metadata": {
        "id": "MwYvOywNCyMs"
      },
      "source": [
        "Polynomial and Boolean constraints can be used together as well."
      ]
    },
    {
      "cell_type": "code",
      "metadata": {
        "id": "o4ADjgn2S3nU"
      },
      "source": [
        "p = Bool('p')\n",
        "x = Real('x')\n",
        "solve(Or(x < 5, x > 10), Or(p, x**2 == 2), Not(p))"
      ],
      "execution_count": null,
      "outputs": []
    },
    {
      "cell_type": "markdown",
      "metadata": {
        "id": "ywhoFeGuC1dg"
      },
      "source": [
        "`If` example (Note here `IntVal()` assigns a value into a variable, and this is actually applied automatically whenever numbers are used within Z3 expressions, similarly with `RealVal()`):"
      ]
    },
    {
      "cell_type": "code",
      "metadata": {
        "id": "FxA74YcrMxWA"
      },
      "source": [
        "x = IntVal(5)\n",
        "y = IntVal(31)\n",
        "\n",
        "o = Int('o')\n",
        "\n",
        "solve(If(Or(x>5,y<=10),o==100, o==0))"
      ],
      "execution_count": null,
      "outputs": []
    },
    {
      "cell_type": "markdown",
      "metadata": {
        "id": "n0QevDmyjSpg"
      },
      "source": [
        "### **List Comprehensions**\n",
        "\n",
        "Just like Python, Z3 supports creating lists in a concise way (note here that Z3 does not have any notion of lists, what is created instead is a Python list of Z3 terms):"
      ]
    },
    {
      "cell_type": "code",
      "metadata": {
        "id": "ONYLrSSws1Ck"
      },
      "source": [
        "# List Comprehensions in Python\n",
        "print([ x + 1 for x in range(5) ])\n",
        "\n",
        "# List Comprehensions in Z3\n",
        "X = [ Int('x%s' % (i+1)) for i in range(5) ]\n",
        "Y = [ Int('y%s' % (i+1)) for i in range(5) ]\n",
        "print(X)"
      ],
      "execution_count": null,
      "outputs": []
    },
    {
      "cell_type": "markdown",
      "metadata": {
        "id": "4QMYCNHKtPfU"
      },
      "source": [
        "In the above example, the expression `\"x%s\" % (i+1)` returns a string where `%s` is replaced with the value of `i+1`.\n",
        "\n",
        "A list containing `X[i] + Y[i]` or ` X[i] > Y[i]` can be created:"
      ]
    },
    {
      "cell_type": "code",
      "metadata": {
        "id": "EOhr7SRguCl9"
      },
      "source": [
        "X_plus_Y = [ X[i] + Y[i] for i in range(5) ]\n",
        "print(X_plus_Y)\n",
        "\n",
        "X_gt_Y = [ X[i] > Y[i] for i in range(5) ]\n",
        "print(X_gt_Y)"
      ],
      "execution_count": null,
      "outputs": []
    },
    {
      "cell_type": "markdown",
      "metadata": {
        "id": "QNNexBQ-wTaQ"
      },
      "source": [
        "Creating a 3x3 matrix, a list of lists, of integer variables is also possible.\n",
        "\n",
        "Note: The `pp(x)` function prints out the formatted matrix."
      ]
    },
    {
      "cell_type": "code",
      "metadata": {
        "id": "Qx0wfMskwlRF"
      },
      "source": [
        "matrix = [ [ Int(\"x_%s_%s\" % (i+1, j+1)) for j in range(3) ] for i in range(3) ]\n",
        "pp(matrix)"
      ],
      "execution_count": null,
      "outputs": []
    },
    {
      "cell_type": "markdown",
      "metadata": {
        "id": "vXZFrSPw1GaT"
      },
      "source": [
        "Lists can have constraints added to them as well e.g. when unique variable names are needed."
      ]
    },
    {
      "cell_type": "code",
      "metadata": {
        "id": "VymAGM--BT9n"
      },
      "source": [
        "X = [ [ Int(\"x_%s_%s\" % (i+1, j+1)) for j in range(3) ] for i in range(3) ]\n",
        "example_c1 = [ And(1 <= X[i][j], X[i][j] <= 3) for i in range(3) for j in range(3) ]\n",
        "pp(example_c1)\n",
        "\n",
        "print()\n",
        "\n",
        "Y = [Int(\"x_%s\" % i) for i in range(3)]\n",
        "example_c2 = [ Distinct([Y[i] for i in range(3)]) ]\n",
        "print(example_c2)"
      ],
      "execution_count": null,
      "outputs": []
    },
    {
      "cell_type": "markdown",
      "metadata": {
        "id": "S8M2tx2wjWnw"
      },
      "source": [
        "### **Solvers**\n",
        "\n",
        "Z3 provides different solvers. The `solve` function, which was used in the previous examples, is implemented using the Z3 solver API. The following section is going to cover the basic Solver API available in Z3, which looks at the inputted query and then determines which specific solver would be best to run for it."
      ]
    },
    {
      "cell_type": "code",
      "metadata": {
        "id": "pKexBvg2XsuI"
      },
      "source": [
        "x = Int('x')\n",
        "y = Int('y')\n",
        "\n",
        "# create a solver\n",
        "s = Solver()\n",
        "print(s)\n",
        "\n",
        "# using add(), constraints can be asserted into the solver\n",
        "s.add(x > 10, y == x + 2)\n",
        "print(s)\n",
        "# check() checks to see if the constraints are satisfiable\n",
        "print(\"Solving the constraints in s\")\n",
        "print(s.check())\n",
        "print(s.model())"
      ],
      "execution_count": null,
      "outputs": []
    },
    {
      "cell_type": "markdown",
      "metadata": {
        "id": "bThqd7WrY49B"
      },
      "source": [
        "The `check()` function returns: \n",
        "- `sat` (satisfiable) if a solution was found\n",
        "- `unsat` (unsatisfiable) if no solution exists\n",
        "\n",
        "General purpose solvers can be used to explore similar problems that share several constraints. "
      ]
    },
    {
      "cell_type": "code",
      "metadata": {
        "id": "pxRe33wZYM25"
      },
      "source": [
        "# push() creates a new scope by saving the current stack\n",
        "s.push()\n",
        "s.add(y < 11)\n",
        "print(s)\n",
        "print(s.check())\n",
        "\n",
        "# pop() allows the solver to revert back to the satisfiable state\n",
        "s.pop()\n",
        "print(s)\n",
        "print(s.check())"
      ],
      "execution_count": null,
      "outputs": []
    },
    {
      "cell_type": "markdown",
      "metadata": {
        "id": "xNWpy3VReP1R"
      },
      "source": [
        "When the `check()` function returns `sat`, it can be said Z3 found a model (i.e. assignment of variables) that satisfies the set of constraints.\n",
        "\n",
        "A model is an interpretation that makes each asserted constraint true:"
      ]
    },
    {
      "cell_type": "code",
      "metadata": {
        "id": "T1hHTEhPemM0"
      },
      "source": [
        "x, y, z = Reals('x y z')\n",
        "s = Solver()\n",
        "s.add(x > 1, y > 1, x + y > 3, z - x < 10)\n",
        "print(s.check())\n",
        "\n",
        "m = s.model()\n",
        "print(\"x = %s\" % m[x]) # m[x] returns the interpretation of x in the model m\n",
        "\n",
        "# decls() return a list with all symbols that have an interpretation in the model\n",
        "for declaration in m.decls():\n",
        "    print(\"%s = %s\" % (declaration.name(), m[declaration]))\n",
        "\n",
        "solve(x > 1, y > 1, x + y > 3, z - x < 10)"
      ],
      "execution_count": null,
      "outputs": []
    },
    {
      "cell_type": "markdown",
      "metadata": {
        "id": "doLBg5L9jZ8e"
      },
      "source": [
        "Exercise:\n",
        "\n",
        "The De Morgan's laws are a pair of transformation rules, such that:\n",
        "\n",
        "- `not (A or B) = not A and not B`; and\n",
        "- `not (A and B) = not A or not B`\n",
        "\n",
        "Task 1) Using the solver, solve one or both of the laws, i.e. find a model. (Hint: use the `check()` function in this exercise) \n",
        "\n",
        "Task 2) Task 1 only finds a model to the De Morgan's laws, but does not actually prove them. In order to do so, create another function called `prove()` which takes in one argument, negates it and adds it to the solver, then check to see if the negation is unsatisfiable, if it is then print out '`proved`', otherwise '`not proved`'. Call this function on either both or one of the laws."
      ]
    },
    {
      "cell_type": "code",
      "metadata": {
        "id": "XXklnMxciHGH"
      },
      "source": [
        "a,b = Bools(\"a b\")\n",
        "\n",
        "######################################################\n",
        "# Task 1 - Find a model to the De Morgan's laws\n",
        "######################################################\n",
        "\n",
        "# define the De Morgan's laws below\n",
        "demorgan1 = None\n",
        "demorgan2 = None\n",
        "\n",
        "def findSolution(x):\n",
        "\t# use the Solver here and add the constraint to it\n",
        " \n",
        "\t# using the check() function on the solver\n",
        "\t# check to see if if a model exists or not\n",
        "\n",
        "print(\"Finding a model for the De Morgan's Laws:\")\n",
        "print(demorgan1)\n",
        "findSolution(demorgan1)\n",
        "\n",
        "print(demorgan2)\n",
        "findSolution(demorgan2)\n",
        "\n",
        "######################################################\n",
        "# Task 2 - Create a prove function to prove the De Morgan's laws\n",
        "######################################################\n",
        "\n",
        "# define the prove function below\n",
        "\n",
        "print(\"Proving the De Morgan's Laws:\")\n",
        "# call the prove() function on the De Morgan's Laws"
      ],
      "execution_count": null,
      "outputs": []
    },
    {
      "cell_type": "markdown",
      "metadata": {
        "id": "Ux44Q_JZoIDQ"
      },
      "source": [
        "### **Sudoku Exercise - Challenging**\n",
        "\n",
        "Sudoku is a very popular puzzle, where the goal is to insert the numbers in boxes in a way that satisfies the following:\n",
        "- each row has to contain the digits from `1` to `n` exactly once,\n",
        "- each column has to contain the digits from `1` to `n` exactly once,\n",
        "- and each box in the Sudoku e.g. each `2x2` box in a `4x4` grid, has to contain the digits from 1 to `n` exactly once. \n",
        "\n",
        "where `n` = grid number (e.g. `n = 4` for a `4x4` grid)\n",
        "\n",
        "The task here is to implement the following Sudoku: \n",
        "\n",
        "![image.png](data:image/png;base64,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)\n",
        "\n",
        "and use the Z3 Solver in order to solve it. This is a simple `4x4` grid but it can be extended to any Sudoku problem. Z3 list comprehensions, boolean logic, and the `Solver()`, `check()`, and `model()` functions should be used in order to complete this exercise. \n",
        "\n",
        "Below is a program template that should be used as a starting point for this extercise. "
      ]
    },
    {
      "cell_type": "code",
      "metadata": {
        "id": "nxa_Zs8T9EFf"
      },
      "source": [
        "# 4x4 matrix of integer variables\n",
        "X = [ [ Int(\"x_%s_%s\" % (i+1, j+1)) for j in range(4) ]\n",
        "      for i in range(4) ]\n",
        "\n",
        "# each cell has to contain a value  from 1, ..., 4\n",
        "cells_c = #to be filled out\n",
        "\n",
        "# each row has to contain a digit at most once\n",
        "# hint: use the Distinct() here\n",
        "rows_c = #to be filled out\n",
        "\n",
        "# each column has to contain a digit at most once\n",
        "# hint: use the Distinct() here\n",
        "cols_c = #to be filled out\n",
        "\n",
        "# each 2x2 square contains a digit at most once\n",
        "sq_c = [ Distinct([ X[2*i0 + i][2*j0 + j]\n",
        "                        for i in range(2) for j in range(2) ])\n",
        "             for i0 in range(2) for j0 in range(2) ]\n",
        "\n",
        "sudoku_c = cells_c + rows_c + cols_c + sq_c\n",
        "\n",
        "# sudoku instance uses '0' for empty cells\n",
        "# add the above sudoku to this\n",
        "instance = ((0,0,0,0),\n",
        "            (0,0,0,0),\n",
        "            (0,0,0,0),\n",
        "            (0,0,0,0))\n",
        "\n",
        "instance_c = [ If(instance[i][j] == 0,\n",
        "                  True,\n",
        "                  X[i][j] == instance[i][j])\n",
        "               for i in range(4) for j in range(4) ]\n",
        "\n",
        "# create a solver and add the sudoku and instance constraints to it \n",
        "\n",
        "if s.check() == sat:\n",
        "    # create a model \n",
        "    \n",
        "    r = [ [ m.evaluate(X[i][j]) for j in range(4) ]\n",
        "          for i in range(4) ]\n",
        "    # print the matrix out\n",
        "    \n",
        "else:\n",
        "    print(\"Cannot solve this Sudoku Puzzle\")"
      ],
      "execution_count": null,
      "outputs": []
    },
    {
      "cell_type": "markdown",
      "metadata": {
        "id": "Kq7lARBA_FvC"
      },
      "source": [
        "# **References**\n",
        "\n",
        "*1. Z3Py Guide [Internet]. [cited 2020 Oct 3]. Available from: https://ericpony.github.io/z3py-tutorial/guide-examples.htm*\n"
      ]
    }
  ]
}